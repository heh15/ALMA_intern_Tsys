{
 "cells": [
  {
   "cell_type": "markdown",
   "id": "815930cb-685d-4bcb-91bd-83f2aa7012e3",
   "metadata": {},
   "source": [
    "### Compare the scatter of the fitting using different methods"
   ]
  },
  {
   "cell_type": "code",
   "execution_count": 37,
   "id": "4eeba7ce-fc69-4be7-a075-ff2de76956da",
   "metadata": {},
   "outputs": [],
   "source": [
    "import pickle\n",
    "import matplotlib.pyplot as plt\n",
    "import matplotlib.ticker as mtick\n",
    "import numpy as np\n",
    "import pandas as pd\n",
    "import matplotlib.path as mpath\n",
    "import matplotlib.patches as mpatches\n",
    "\n",
    "\n",
    "def add_label_band(ax, left, right, label, *, spine_pos=-0.12, tip_pos=-0.09, fontsize=15):\n",
    "    \"\"\"\n",
    "    Helper function to add bracket around x-tick labels.\n",
    "\n",
    "    Parameters\n",
    "    ----------\n",
    "    ax : matplotlib.Axes\n",
    "        The axes to add the bracket to\n",
    "\n",
    "    top, bottom : floats\n",
    "        The positions in *data* space to bracket on the y-axis\n",
    "\n",
    "    label : str\n",
    "        The label to add to the bracket\n",
    "\n",
    "    spine_pos, tip_pos : float, optional\n",
    "        The position in *axes fraction* of the spine and tips of the bracket.\n",
    "        These will typically be negative\n",
    "\n",
    "    Returns\n",
    "    -------\n",
    "    bracket : matplotlib.patches.PathPatch\n",
    "        The \"bracket\" Aritst.  Modify this Artist to change the color etc of\n",
    "        the bracket from the defaults.\n",
    "\n",
    "    txt : matplotlib.text.Text\n",
    "        The label Artist.  Modify this to change the color etc of the label\n",
    "        from the defaults.\n",
    "\n",
    "    \"\"\"\n",
    "    # grab the yaxis blended transform\n",
    "    transform = ax.get_xaxis_transform()\n",
    "\n",
    "    # add the bracket\n",
    "    bracket = mpatches.PathPatch(\n",
    "        mpath.Path(\n",
    "            [\n",
    "                [left, tip_pos],\n",
    "                [left, spine_pos],\n",
    "                [right, spine_pos],\n",
    "                [right, tip_pos],\n",
    "            ]\n",
    "        ),\n",
    "        transform=transform,\n",
    "        clip_on=False,\n",
    "        facecolor=\"none\",\n",
    "        edgecolor=\"k\",\n",
    "        linewidth=2,\n",
    "    )\n",
    "    ax.add_artist(bracket)\n",
    "\n",
    "    # add the label\n",
    "    txt = ax.text(\n",
    "        (left + right) / 2,\n",
    "        spine_pos-0.05,\n",
    "        label,\n",
    "        ha=\"center\",\n",
    "        va=\"center\",\n",
    "        rotation=\"horizontal\",\n",
    "        clip_on=False,\n",
    "        transform=transform,\n",
    "        fontsize=fontsize\n",
    "    )\n",
    "\n",
    "    return bracket, txt"
   ]
  },
  {
   "cell_type": "markdown",
   "id": "e4b5d685-b573-4e42-9004-5745a701bd77",
   "metadata": {},
   "source": [
    "Directories of the data file"
   ]
  },
  {
   "cell_type": "code",
   "execution_count": 2,
   "id": "420a467a-1648-4fc2-b799-fefd66f32a12",
   "metadata": {},
   "outputs": [],
   "source": [
    "picDir = '../../pictures/'\n",
    "dirs = ['2015.1.00271.S', '2016.1.00744.S', '2018.1.01778.S', 'E2E8.1.00003.S', \n",
    "        '2018.1.01210.S/X2387', '2018.1.01210.S/X32df', \n",
    "        '2018.1.01210.S/X35d1', '2018.1.01210.S/X3e39', \n",
    "        '2018.1.01210.S/X4db3', '2018.1.01210.S/X15d7b', \n",
    "        '2018.1.01210.S/X1702c', '2018.1.01210.S/X17da2', \n",
    "        '2019.1.00013.S/X769c', '2019.1.00013.S/X7b1', \n",
    "       '2019.1.00013.S/X1208a']\n",
    "chans_WVR = [0,0,1,0,0,0,0,0,0,0,0,0,0,0,0]"
   ]
  },
  {
   "cell_type": "markdown",
   "id": "026da173-1f5c-4054-994a-1adff0495b83",
   "metadata": {},
   "source": [
    "Read the fitting information from the data file"
   ]
  },
  {
   "cell_type": "code",
   "execution_count": 3,
   "id": "964a166f-9988-401c-8bfb-22f944bb9a8c",
   "metadata": {},
   "outputs": [],
   "source": [
    "fit_errs = []; partfit_errs = []\n",
    "fit_ranges = []; partfit_ranges = []\n",
    "for i, dir in enumerate(dirs):\n",
    "    filename_fit = dir+'/Tsys_WVR_fitted_WVRchan'+str(chans_WVR[i])+'_normScans000.pkl'\n",
    "    with open(filename_fit,'rb') as pickle_file:\n",
    "        fit_results = pickle.load(pickle_file, encoding='latin')\n",
    "    filename_partfit = dir+'/Tsys_WVR_part_fitted_WVRchan'+str(chans_WVR[i])+'_normScans000.pkl'\n",
    "    with open(filename_partfit,'rb') as pickle_file:\n",
    "        partfit_results = pickle.load(pickle_file, encoding='latin')\n",
    "    # read the Tsys spw ids\n",
    "    spws = list(fit_results.keys())\n",
    "    spws.remove('info')\n",
    "    # read the scatter and fitting range of the data\n",
    "    for spw in spws:\n",
    "        fit_errs.append(fit_results[spw]['rel_err'])\n",
    "        fit_ranges.append(fit_results[spw]['Tsys_range'])\n",
    "        partfit_errs.append(partfit_results[spw]['rel_err'])\n",
    "        partfit_ranges.append(partfit_results[spw]['Tsys_range'])\n",
    "        \n",
    "fit_errs = np.array(fit_errs)\n",
    "fit_ranges = np.array(fit_ranges)\n",
    "partfit_errs =  np.array(partfit_errs)\n",
    "partfit_ranges = np.array(partfit_ranges)"
   ]
  },
  {
   "cell_type": "markdown",
   "id": "dfe00c3c-0cd4-42d0-acc1-9635df1fab28",
   "metadata": {},
   "source": [
    "Make the scatter plot of fit error versus the yrange. (Can make a histogram at the right side)"
   ]
  },
  {
   "cell_type": "code",
   "execution_count": 4,
   "id": "66e5edf4-3e8a-465a-bcda-84358567a26b",
   "metadata": {},
   "outputs": [
    {
     "name": "stdout",
     "output_type": "stream",
     "text": [
      "(72, 1)\n"
     ]
    }
   ],
   "source": [
    "print(np.shape(fit_errs))"
   ]
  },
  {
   "cell_type": "code",
   "execution_count": 5,
   "id": "add078a0-054a-47a8-b6e3-51b02ab5bcfa",
   "metadata": {
    "jupyter": {
     "source_hidden": true
    },
    "tags": []
   },
   "outputs": [
    {
     "data": {
      "image/png": "[encoded data removed]",
      "text/plain": [
       "<Figure size 432x288 with 2 Axes>"
      ]
     },
     "metadata": {
      "needs_background": "light"
     },
     "output_type": "display_data"
    }
   ],
   "source": [
    "def scatter_yhist(y, ax_histy, **kwargs):\n",
    "    # no labels\n",
    "    ax_histy.tick_params(axis=\"y\", labelleft=False)\n",
    "\n",
    "    # now determine nice limits by hand:\n",
    "    binwidth = 0.0025\n",
    "    ymax = np.max(y)\n",
    "    lim = (int(ymax/binwidth) + 1) * binwidth\n",
    "\n",
    "    bins = np.arange(0, lim + binwidth, binwidth)\n",
    "    ax_histy.hist(y, bins=bins,orientation='horizontal',**kwargs)\n",
    "\n",
    "left, width = 0.1, 0.65\n",
    "bottom, height = 0.1, 0.65\n",
    "spacing = 0.005\n",
    "rect_scatter = [left, bottom, width, height]\n",
    "rect_histx = [left, bottom + height + spacing, width, 0.2]\n",
    "rect_histy = [left + width + spacing, bottom, 0.2, height]\n",
    "\n",
    "fig = plt.figure()\n",
    "ax = fig.add_axes(rect_scatter)\n",
    "ax.yaxis.set_major_formatter(mtick.PercentFormatter(xmax=1, decimals=None, \n",
    "                                                    symbol='%', \n",
    "                                                    is_latex=False))\n",
    "ax.xaxis.set_major_formatter(mtick.PercentFormatter(xmax=1, decimals=None, \n",
    "                                                    symbol='%', \n",
    "                                                    is_latex=False))\n",
    "plt.xlabel('Tsys variation (%)', fontsize=15)\n",
    "plt.ylabel('Fit scatter (%)', fontsize=15)\n",
    "plt.scatter(fit_ranges, fit_errs, color='red', label='Fit with all ATM scans')\n",
    "plt.scatter(partfit_ranges, partfit_errs, color='blue', alpha=0.5, label='Fit with 4 ATM scans')\n",
    "plt.legend(fontsize=12)\n",
    "\n",
    "ax_histy = fig.add_axes(rect_histy, sharey=ax)\n",
    "scatter_yhist(fit_errs, ax_histy, edgecolor='red', facecolor='red')\n",
    "scatter_yhist(partfit_errs, ax_histy, facecolor='None', edgecolor='blue', linewidth=3)\n",
    "plt.savefig(picDir+'fit_statistics.pdf', bbox_inches='tight', pad_inches=0.2)"
   ]
  },
  {
   "cell_type": "markdown",
   "id": "64d769af-bf3e-4f47-ae67-591e7d518972",
   "metadata": {},
   "source": [
    "#### Flux comparison among 3 different methods"
   ]
  },
  {
   "cell_type": "markdown",
   "id": "25301562-0e86-473a-a613-2d421b6a8ed9",
   "metadata": {},
   "source": [
    "Read the fluxes from table"
   ]
  },
  {
   "cell_type": "code",
   "execution_count": 6,
   "id": "ddecebfa-5948-4c9d-859b-920378cf602b",
   "metadata": {},
   "outputs": [],
   "source": [
    "filename = '../../logs/flux_comparison.xlsx'\n",
    "projects = np.array(['2015.1.00271.S', '2016.1.00744.S', '2018.1.01778.S', 'E2E8.1.00003.S', '2018.1.01210.S', '2019.1.00013.S'])\n",
    "bands = np.array(['Band10', 'Band9a', 'Band8', 'Band7a', 'Band7b', 'Band9b'])\n",
    "targets = np.array(['Arp 220', 'IRAS16293-B', 'SPT0311-58', 'HT-Lup', 'AS205A', 'Circinus']) "
   ]
  },
  {
   "cell_type": "code",
   "execution_count": 7,
   "id": "3ddcd332-f9d9-4acf-9531-fcc8881a75fd",
   "metadata": {
    "jupyter": {
     "source_hidden": true
    },
    "tags": []
   },
   "outputs": [],
   "source": [
    "fluxes = np.full((3,6), fill_value=0.0) \n",
    "fluxes_up = np.full((3,6), fill_value=0.0) \n",
    "fluxes_low = np.full((3,6), fill_value=0.0)\n",
    "for i, project in enumerate(projects[:4]):\n",
    "    flux_table = pd.read_excel(filename, sheet_name=project)\n",
    "    fluxes[0,i] = flux_table['flux'][0]\n",
    "    fluxes[1,i] = flux_table['flux'][1]\n",
    "    fluxes[2,i] = flux_table['flux'][2]\n",
    "    fluxes_up[0,i] = flux_table['1st flux'][0]\n",
    "    fluxes_up[1,i] = flux_table['1st flux'][1]\n",
    "    fluxes_up[2,i] = flux_table['1st flux'][2]\n",
    "    fluxes_low[0,i] = flux_table['2nd flux'][0]\n",
    "    fluxes_low[1,i] = flux_table['2nd flux'][1]\n",
    "    fluxes_low[2,i] = flux_table['2nd flux'][2]\n",
    "    \n",
    "fluxes_all = np.stack([fluxes, fluxes_up, fluxes_low],axis=2)\n",
    "fluxes_mid = np.nanmedian(fluxes_all, axis=2)\n",
    "Errs_up = np.nanmax(fluxes_all, axis=2) - fluxes_mid\n",
    "Errs_low = fluxes_mid - np.nanmin(fluxes_all, axis=2)\n",
    "    \n",
    "for j, project in enumerate(projects[4:]):\n",
    "    i = 4 + j\n",
    "    flux_table = pd.read_excel(filename, sheet_name=project, index_col=0)\n",
    "    fluxes_mid[0,i] = flux_table['flux_orig']['AVG.']\n",
    "    fluxes_mid[1,i] = flux_table['flux_extrap']['AVG.']\n",
    "    fluxes_mid[2,i] = flux_table['flux_partextrap']['AVG.']\n",
    "    Errs_up[0,i] = flux_table['flux_orig']['STD.']\n",
    "    Errs_up[1,i] = flux_table['flux_extrap']['STD.']\n",
    "    Errs_up[2,i] = flux_table['flux_partextrap']['STD.']\n",
    "    Errs_low[:,4:] = np.copy(Errs_up[:,4:])\n",
    "    \n",
    "Errs_rel_up = Errs_up / fluxes_mid\n",
    "Errs_rel_low = Errs_low / fluxes_mid"
   ]
  },
  {
   "cell_type": "markdown",
   "id": "1bb51a14-6f05-47f0-89da-02000be0f370",
   "metadata": {},
   "source": [
    "Plot the comparison between fluxes"
   ]
  },
  {
   "cell_type": "code",
   "execution_count": 52,
   "id": "6cdd4008-c50e-4d13-84bb-355e68db9db8",
   "metadata": {
    "jupyter": {
     "source_hidden": true
    },
    "tags": []
   },
   "outputs": [
    {
     "data": {
      "image/png": "[encoded data removed]",
      "text/plain": [
       "<Figure size 432x288 with 1 Axes>"
      ]
     },
     "metadata": {
      "needs_background": "light"
     },
     "output_type": "display_data"
    }
   ],
   "source": [
    "xvals = np.array([1,3,5,7,9,11]); yvals = np.array([1,1,1,1,1,1])\n",
    "bands_bracket = ['('+band+')' for band in bands]\n",
    "ticks = map('\\n'.join, zip(targets, bands_bracket))\n",
    "\n",
    "ticks = bands\n",
    "fig = plt.figure()\n",
    "ax = plt.subplot(111)\n",
    "\n",
    "# set the xlabel\n",
    "# ax.set_xticks([1,2,3,4,5,6,7,8,9,10,11,12])\n",
    "# ax.set_xticklabels('')\n",
    "# ax.set_xticks([1.5,3.5,5.5,7.5,9.5,11.5], minor=True)\n",
    "# ax.set_xticklabels(list(projects), minor=True, rotation=60)\n",
    "ax.set_xticks([1.5,3.5,5.5,7.5,9.5,11.5])\n",
    "# ax.set_xticklabels(ticks, rotation=60)\n",
    "ax.set_xticklabels(ticks)\n",
    "ax.tick_params(which='minor', length=0)\n",
    "# Format the ticks in yaxis as percentage\n",
    "ax.yaxis.set_major_formatter(mtick.PercentFormatter(xmax=1, decimals=None, \n",
    "                                                    symbol='%', \n",
    "                                                    is_latex=False))\n",
    "# set the ylabel\n",
    "ax.set_ylabel('Relative Fluxes', fontsize=15)\n",
    "\n",
    "# plot the normalized flux values\n",
    "plt.errorbar(xvals+0.25, yvals, yerr=np.stack([Errs_rel_up[0], Errs_rel_low[0]],axis=0), marker='o', linestyle='', label='orig', capsize=5)\n",
    "plt.errorbar(xvals+0.5, fluxes_mid[1]/fluxes_mid[0], yerr=np.stack([Errs_rel_up[1], Errs_rel_low[1]],axis=0), marker='s', linestyle='', label='extrap', capsize=5)\n",
    "plt.errorbar(xvals+0.75, fluxes_mid[2]/fluxes_mid[0], yerr=np.stack([Errs_rel_up[2], Errs_rel_low[2]],axis=0), marker='d', linestyle='', label='partextrap', capsize=5)\n",
    "plt.legend(loc='upper left')\n",
    "\n",
    "# plot the dashed error bars for AS205A\n",
    "eb=plt.errorbar(9+0.25, 1.0 , yerr = 0.113/0.7549, marker='o', color='tab:blue')\n",
    "eb[-1][0].set_linestyle('--')\n",
    "eb=plt.errorbar(9+0.5, 0.7526/0.7549 , yerr = 0.109/0.7549, marker='o', color='tab:orange')\n",
    "eb[-1][0].set_linestyle('--')\n",
    "eb=plt.errorbar(9+0.75, 0.7520/0.7549 , yerr = 0.109/0.7549, marker='o', color='tab:green')\n",
    "eb[-1][0].set_linestyle('--')\n",
    "\n",
    "# add group labels\n",
    "add_label_band(ax, 1.6, 7.4, \"single dataset\")\n",
    "add_label_band(ax, 9.6, 11.4, \"multiple datasets\")\n",
    "\n",
    "# save the figure\n",
    "plt.savefig(picDir+'flux_comparison.pdf', bbox_inches='tight', pad_inches=0.2)"
   ]
  }
 ],
 "metadata": {
  "kernelspec": {
   "display_name": "Python 3",
   "language": "python",
   "name": "python3"
  },
  "language_info": {
   "codemirror_mode": {
    "name": "ipython",
    "version": 3
   },
   "file_extension": ".py",
   "mimetype": "text/x-python",
   "name": "python",
   "nbconvert_exporter": "python",
   "pygments_lexer": "ipython3",
   "version": "3.8.8"
  }
 },
 "nbformat": 4,
 "nbformat_minor": 5
}
